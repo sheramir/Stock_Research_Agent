{
  "metadata": {
    "kernelspec": {
      "language": "python",
      "display_name": "Python 3",
      "name": "python3"
    },
    "language_info": {
      "pygments_lexer": "ipython3",
      "nbconvert_exporter": "python",
      "version": "3.6.4",
      "file_extension": ".py",
      "codemirror_mode": {
        "name": "ipython",
        "version": 3
      },
      "name": "python",
      "mimetype": "text/x-python"
    },
    "kaggle": {
      "accelerator": "none",
      "dataSources": [
        {
          "sourceId": 97258,
          "sourceType": "competition"
        }
      ],
      "isInternetEnabled": true,
      "language": "python",
      "sourceType": "notebook",
      "isGpuEnabled": false
    },
    "colab": {
      "provenance": [],
      "collapsed_sections": [
        "PpKepiE97Ksp"
      ],
      "include_colab_link": true
    }
  },
  "nbformat_minor": 0,
  "nbformat": 4,
  "cells": [
    {
      "cell_type": "markdown",
      "metadata": {
        "id": "view-in-github",
        "colab_type": "text"
      },
      "source": [
        "<a href=\"https://colab.research.google.com/github/sheramir/Stock_Research_Agent/blob/main/Stock_Research_Agent.ipynb\" target=\"_parent\"><img src=\"https://colab.research.google.com/assets/colab-badge.svg\" alt=\"Open In Colab\"/></a>"
      ]
    },
    {
      "cell_type": "markdown",
      "source": [
        "# **GenAI Capstone Project - Amir Sher**"
      ],
      "metadata": {
        "id": "QgiWWgeFZS36"
      }
    },
    {
      "cell_type": "markdown",
      "source": [
        "##Gemini Stock Researcher: An Interactive LangGraph Agent\n",
        "\n",
        "This project implements an AI-powered chatbot designed to assist users with stock and ETF research through an interactive, guided process.\n",
        "\n",
        "Built using the LangGraph framework, the agent orchestrates a conversational workflow between the user, a Google Gemini large language model (LLM), and specialized data-retrieval tools.\n",
        "\n",
        "Key AI techniques employed include prompt engineering to establish the agent's expert persona and strict operational guidelines, the LLM's native tool-calling capabilities to resolve ticker symbols and fetch specific data points (like technical indicators, fundamental data, news, and sentiment analysis), and robust state management via LangGraph to maintain conversational context across multiple turns.\n",
        "\n",
        "The agent follows a defined agentic workflow that incorporates human-in-the-loop steps for critical tasks like ticker symbol verification, ensuring accuracy and user control while grounding its responses in the data provided by its tools to avoid hallucination and refrain from giving direct financial advice."
      ],
      "metadata": {
        "id": "wvfQqdqC2u2F"
      }
    },
    {
      "cell_type": "markdown",
      "source": [
        "## Get Setup"
      ],
      "metadata": {
        "id": "PpKepiE97Ksp"
      }
    },
    {
      "cell_type": "markdown",
      "source": [
        "### Install LangGraph for Gemini"
      ],
      "metadata": {
        "id": "45OtPtcU7cvc"
      }
    },
    {
      "cell_type": "code",
      "source": [
        "# Remove conflicting packages from the Kaggle base environment.\n",
        "!pip uninstall -qqy kfp jupyterlab libpysal thinc spacy fastai ydata-profiling google-cloud-bigquery google-generativeai\n",
        "\n",
        "# Install langgraph and the packages used in this lab.\n",
        "!pip install -qU 'langgraph==0.3.21' 'langchain-google-genai==2.1.2' 'langgraph-prebuilt==0.1.7'\n",
        "\n",
        "#!pip install -qU 'langgraph>=0.3.22' 'langchain-google-genai==2.1.2' 'langchain-core' # Ensure core is present\n"
      ],
      "metadata": {
        "colab": {
          "base_uri": "https://localhost:8080/"
        },
        "id": "3gL4bSEG7PPT",
        "outputId": "0f43fd72-df56-4a03-f039-7d4c7a0b1f0c"
      },
      "execution_count": 6,
      "outputs": [
        {
          "output_type": "stream",
          "name": "stdout",
          "text": [
            "\u001b[33mWARNING: Skipping kfp as it is not installed.\u001b[0m\u001b[33m\n",
            "\u001b[0m\u001b[33mWARNING: Skipping jupyterlab as it is not installed.\u001b[0m\u001b[33m\n",
            "\u001b[0m\u001b[33mWARNING: Skipping libpysal as it is not installed.\u001b[0m\u001b[33m\n",
            "\u001b[0m\u001b[33mWARNING: Skipping thinc as it is not installed.\u001b[0m\u001b[33m\n",
            "\u001b[0m\u001b[33mWARNING: Skipping spacy as it is not installed.\u001b[0m\u001b[33m\n",
            "\u001b[0m\u001b[33mWARNING: Skipping fastai as it is not installed.\u001b[0m\u001b[33m\n",
            "\u001b[0m\u001b[33mWARNING: Skipping ydata-profiling as it is not installed.\u001b[0m\u001b[33m\n",
            "\u001b[0m\u001b[33mWARNING: Skipping google-cloud-bigquery as it is not installed.\u001b[0m\u001b[33m\n",
            "\u001b[0m\u001b[33mWARNING: Skipping google-generativeai as it is not installed.\u001b[0m\u001b[33m\n",
            "\u001b[2K   \u001b[90m━━━━━━━━━━━━━━━━━━━━━━━━━━━━━━━━━━━━━━━━\u001b[0m \u001b[32m138.0/138.0 kB\u001b[0m \u001b[31m3.1 MB/s\u001b[0m eta \u001b[36m0:00:00\u001b[0m\n",
            "\u001b[?25h"
          ]
        }
      ]
    },
    {
      "cell_type": "markdown",
      "source": [
        "### Import dependancies"
      ],
      "metadata": {
        "id": "yeksY5kcvnyC"
      }
    },
    {
      "cell_type": "code",
      "source": [
        "!pip show langgraph"
      ],
      "metadata": {
        "colab": {
          "base_uri": "https://localhost:8080/"
        },
        "id": "Nye8IdR-AukV",
        "outputId": "8c30cb7a-fb04-49aa-e4f6-2e8e8342653c"
      },
      "execution_count": 7,
      "outputs": [
        {
          "output_type": "stream",
          "name": "stdout",
          "text": [
            "Name: langgraph\n",
            "Version: 0.3.21\n",
            "Summary: Building stateful, multi-actor applications with LLMs\n",
            "Home-page: https://www.github.com/langchain-ai/langgraph\n",
            "Author: \n",
            "Author-email: \n",
            "License: MIT\n",
            "Location: /usr/local/lib/python3.11/dist-packages\n",
            "Requires: langchain-core, langgraph-checkpoint, langgraph-prebuilt, langgraph-sdk, xxhash\n",
            "Required-by: \n"
          ]
        }
      ]
    },
    {
      "cell_type": "code",
      "source": [
        "!pip show langchain-core"
      ],
      "metadata": {
        "colab": {
          "base_uri": "https://localhost:8080/"
        },
        "id": "ZbMzNrdJIuhb",
        "outputId": "8f652317-71be-4b8f-a59d-5c451fb2e87f"
      },
      "execution_count": 8,
      "outputs": [
        {
          "output_type": "stream",
          "name": "stdout",
          "text": [
            "Name: langchain-core\n",
            "Version: 0.3.50\n",
            "Summary: Building applications with LLMs through composability\n",
            "Home-page: \n",
            "Author: \n",
            "Author-email: \n",
            "License: MIT\n",
            "Location: /usr/local/lib/python3.11/dist-packages\n",
            "Requires: jsonpatch, langsmith, packaging, pydantic, PyYAML, tenacity, typing-extensions\n",
            "Required-by: langchain, langchain-google-genai, langchain-text-splitters, langgraph, langgraph-checkpoint, langgraph-prebuilt\n"
          ]
        }
      ]
    },
    {
      "source": [
        "import os\n",
        "import sys\n",
        "import uuid\n",
        "import getpass\n",
        "from typing import TypedDict, Annotated, List, Union\n",
        "import operator\n",
        "from IPython.display import Image, display, Markdown\n",
        "\n",
        "from langchain_core.messages import (\n",
        "    BaseMessage,\n",
        "    HumanMessage,\n",
        "    AIMessage,\n",
        "    ToolMessage,\n",
        "    SystemMessage,\n",
        ")\n",
        "from langchain_core.tools import tool\n",
        "from langchain_core.prompts import ChatPromptTemplate, MessagesPlaceholder\n",
        "from langchain_google_genai import ChatGoogleGenerativeAI\n",
        "from langgraph.graph import StateGraph, END\n",
        "#from langgraph.prebuilt import ToolExecutor, ToolInvocation\n"
      ],
      "metadata": {
        "id": "_NN4U3Y3ZS36"
      },
      "cell_type": "code",
      "outputs": [],
      "execution_count": 9
    },
    {
      "cell_type": "markdown",
      "source": [
        "### Get *GOOGLE_API_KEY*"
      ],
      "metadata": {
        "id": "Ayq7rNATv1--"
      }
    },
    {
      "source": [
        "from google.colab import userdata\n",
        "GOOGLE_API_KEY = userdata.get('GOOGLE_API_KEY')\n",
        "\n",
        "os.environ[\"GOOGLE_API_KEY\"] = GOOGLE_API_KEY"
      ],
      "metadata": {
        "id": "VB4nM_YgZS36"
      },
      "cell_type": "code",
      "outputs": [],
      "execution_count": 10
    },
    {
      "cell_type": "markdown",
      "source": [
        "### Define system prompt"
      ],
      "metadata": {
        "id": "HDM29A_hwq2Q"
      }
    },
    {
      "cell_type": "code",
      "source": [
        "SYSTEM_PROMPT = \"\"\"\n",
        "You are an expert Stock Research Assistant AI. Your purpose is to help users research publicly traded stocks and ETFs using a defined set of tools. You must strictly adhere to the following workflow and constraints:\n",
        "\n",
        "**Core Workflow:**\n",
        "\n",
        "1.  **Initiation:** Start by politely asking the user which specific stock, company, or ETF they would like to research.\n",
        "2.  **Symbol Resolution & Verification:**\n",
        "    * Once the user provides input (e.g., \"Apple\", \"Tesla\", \"SPY\", \"the S&P 500 ETF\"), you MUST use the `resolve_ticker` tool to identify the correct ticker symbol(s).\n",
        "    * Present the most likely ticker symbol found to the user (e.g., \"I found the ticker symbol AAPL for Apple. Is this the symbol you'd like to research?\").\n",
        "    * You MUST receive explicit confirmation from the user for the specific ticker symbol before proceeding. Do not proceed with research until the symbol is confirmed.\n",
        "3.  **Research Scope Definition:** After confirming the symbol, ask the user what aspect(s) they want to explore. Clearly present these options:\n",
        "    * Technical Analysis\n",
        "    * Fundamental Analysis\n",
        "    * Plot Daily Chart\n",
        "    * Get News\n",
        "    * Get Sentiment\n",
        "    * Produce a Full Report (combining multiple data points)\n",
        "4.  **Tool Execution & Response:**\n",
        "    * Based on the user's selection, utilize the appropriate tool(s) listed below to retrieve the requested information for the *confirmed* ticker symbol.\n",
        "    * Present the information retrieved from the tools clearly and concisely.\n",
        "    * **Engage with Follow-ups:** Encourage the user to ask follow-up questions about the presented data. Answer these questions accurately, *based solely on the information retrieved from the tools*.\n",
        "    * **Handle Recommendations Carefully:** If the user asks for recommendations, suggestions, or opinions (e.g., \"Should I buy?\", \"Is this a good investment?\"), you MUST:\n",
        "        * State clearly that you are an AI assistant and **cannot provide financial advice**.\n",
        "        * You MAY summarize relevant data points gathered from the tools that could *inform* their decision (e.g., \"The tool indicates positive sentiment and the P/E ratio is X, which is below the sector average according to the data.\").\n",
        "        * NEVER give a direct buy, sell, or hold recommendation. Ensure any summary or interpretation is strictly tied to the tool data and framed neutrally, avoiding persuasive language.\n",
        "5.  **Symbol Switching:** The user can request to switch to a different stock or ETF *at any point* during the conversation. If they express this intent (e.g., \"Okay, now let's look at Microsoft\", \"Switch to GOOGL\"), acknowledge it politely and restart the workflow from Step 1 (asking for confirmation of the new symbol via Step 2).\n",
        "\n",
        "**Constraints & Rules:**\n",
        "\n",
        "* **Tool Reliance:** Your answers and summaries MUST be based *exclusively* on the information retrieved from the available tools.\n",
        "* **No Hallucination:** DO NOT invent, guess, fabricate, or provide information not present in the tool outputs. If a tool does not provide the information needed to answer a question or fulfill a request, state that clearly (e.g., \"My tools did not provide specific data on forward P/E ratio.\").\n",
        "* **No Financial Advice:** Explicitly refuse to give direct financial or investment advice (buy/sell/hold). Frame any data summaries neutrally.\n",
        "* **Single Symbol Focus:** If the user asks about multiple stocks/ETFs in their initial request (e.g., \"Tell me about Apple and Microsoft\"), inform them you can only research one symbol at a time. Select the *first* symbol mentioned (e.g., \"I can research symbols one at a time. Shall I start with Apple (AAPL)?\"), verify it as per Step 2, and proceed.\n",
        "* **Clarity:** Be clear, professional, and helpful in your interactions.\n",
        "\n",
        "**Available Tools:**\n",
        "\n",
        "You have access to the following tools to perform your research tasks:\n",
        "\n",
        "1.  **`resolve_ticker`**:\n",
        "    * **Objective:** Takes a company name, partial name, or potential ticker as input and returns the most likely official stock/ETF ticker symbol(s). Essential for Step 2 (Symbol Resolution & Verification).\n",
        "2.  **`get_technical_analysis`**:\n",
        "    * **Objective:** Retrieves key technical indicators for the confirmed ticker symbol (e.g., Moving Averages, RSI, MACD, Support/Resistance levels).\n",
        "3.  **`get_fundamental_data`**:\n",
        "    * **Objective:** Fetches core fundamental financial data for the confirmed ticker symbol (e.g., P/E Ratio, EPS, Revenue, Market Cap, Dividend Yield).\n",
        "4.  **`plot_daily_chart`**:\n",
        "    * **Objective:** Generates a visual plot (or provides data for plotting) of the daily price action for the confirmed ticker symbol over a recent period (e.g., last 3 months, year-to-date). Returns a confirmation message or image data placeholder.\n",
        "5.  **`get_news`**:\n",
        "    * **Objective:** Retrieves recent relevant news headlines and summaries associated with the confirmed ticker symbol or underlying company.\n",
        "6.  **`get_sentiment`**:\n",
        "    * **Objective:** Analyzes recent news articles or other relevant text data to provide a sentiment score (e.g., positive, negative, neutral) related to the confirmed ticker symbol.\n",
        "7.  **`generate_full_report`**:\n",
        "    * **Objective:** Compiles data from multiple tools (`get_technical_analysis`, `get_fundamental_data`, `get_news`, `get_sentiment`) into a consolidated summary report for the confirmed ticker symbol.\n",
        "\n",
        "Remember to always verify the ticker symbol with the user before using tools 2 through 7. Your primary function is to act as a data conduit and basic interpreter based *only* on the tool outputs, without providing personalized financial advice.\n",
        "\"\"\"\n"
      ],
      "metadata": {
        "id": "bnYCJWzEwtnf"
      },
      "execution_count": 12,
      "outputs": []
    },
    {
      "cell_type": "markdown",
      "source": [
        "## Building the Agent"
      ],
      "metadata": {
        "id": "QeRKyXmzojpR"
      }
    },
    {
      "cell_type": "code",
      "source": [
        "# Allow debugging messages using the boolean variable VERBOSE\n",
        "\n",
        "VERBOSE = False # Set to True to see debug prints, False to hide them\n",
        "\n",
        "def print_verbose(message):\n",
        "    if VERBOSE:\n",
        "        print(message)"
      ],
      "metadata": {
        "id": "8HJEUHAIotPJ"
      },
      "execution_count": 39,
      "outputs": []
    },
    {
      "cell_type": "markdown",
      "source": [
        "### Agent Tools Definitions"
      ],
      "metadata": {
        "id": "VPI-jAICxFao"
      }
    },
    {
      "cell_type": "code",
      "source": [
        "# --- Tool Definitions (Dummy Implementations) ---\n",
        "\n",
        "@tool\n",
        "def resolve_ticker(query: str) -> str:\n",
        "    \"\"\"Find the correct stock/ETF ticker symbol based on company name or user input.\"\"\"\n",
        "    print_verbose(f\"\\n--- TOOL CALL: resolve_ticker ---\")\n",
        "    print_verbose(f\"   Query: {query}\")\n",
        "\n",
        "    # Replace with actual API call (e.g., search endpoint of a financial data provider)\n",
        "    query_lower = query.lower()\n",
        "    ticker_map = {\n",
        "        \"apple\": \"AAPL\",\n",
        "        \"aapl\": \"AAPL\",\n",
        "        \"microsoft\": \"MSFT\",\n",
        "        \"msft\": \"MSFT\",\n",
        "        \"google\": \"GOOGL\",\n",
        "        \"googl\": \"GOOGL\",\n",
        "        \"alphabet\": \"GOOGL\",\n",
        "        \"tesla\": \"TSLA\",\n",
        "        \"tsla\": \"TSLA\",\n",
        "        \"s&p 500 etf\": \"SPY\",\n",
        "        \"spy\": \"SPY\",\n",
        "        \"spdr s&p 500\": \"SPY\",\n",
        "    }\n",
        "    # Simple exact match (case-insensitive)\n",
        "    if query_lower in ticker_map:\n",
        "        result = ticker_map[query_lower]\n",
        "        print_verbose(f\"   Result: {result}\")\n",
        "        return result\n",
        "    # Basic partial match\n",
        "    for name, ticker in ticker_map.items():\n",
        "         if query_lower in name:\n",
        "             result = ticker\n",
        "             print_verbose(f\"   Result (partial match): {result}\")\n",
        "             return result\n",
        "\n",
        "    print_verbose(f\"   Result: Could not resolve\")\n",
        "    return f\"Could not definitively resolve ticker for '{query}'. Please provide a more specific name or known ticker, or confirm if this is not a public US stock/ETF.\"\n",
        "\n",
        "@tool\n",
        "def get_technical_analysis(ticker: str) -> str:\n",
        "    \"\"\"Retrieve key technical indicators for the confirmed ticker symbol.\"\"\"\n",
        "    print_verbose(f\"\\n--- TOOL CALL: get_technical_analysis ---\")\n",
        "    print_verbose(f\"   Ticker: {ticker}\")\n",
        "    # Replace with actual API call\n",
        "    # Example dummy data\n",
        "    result = f\"\"\"\n",
        "Technical Analysis for {ticker}:\n",
        "- Simple Moving Average (SMA 50): $175.20\n",
        "- Simple Moving Average (SMA 200): $168.50\n",
        "- Relative Strength Index (RSI 14): 55.8\n",
        "- MACD (12, 26, 9): Signal line crossover bearish\n",
        "- Support Level: $170.00\n",
        "- Resistance Level: $185.00\n",
        "(Note: Data is illustrative)\n",
        "\"\"\"\n",
        "    print(f\"   Result: [Generated TA data]\")\n",
        "    return result\n",
        "\n",
        "@tool\n",
        "def get_fundamental_data(ticker: str) -> str:\n",
        "    \"\"\"Fetch core fundamental financial data for the confirmed ticker symbol.\"\"\"\n",
        "    print_verbose(f\"\\n--- TOOL CALL: get_fundamental_data ---\")\n",
        "    print_verbose(f\"   Ticker: {ticker}\")\n",
        "    # Replace with actual API call\n",
        "    # Example dummy data\n",
        "    result = f\"\"\"\n",
        "Fundamental Data for {ticker}:\n",
        "- Market Cap: $2.8T\n",
        "- P/E Ratio (TTM): 29.5\n",
        "- Earnings Per Share (EPS TTM): $6.10\n",
        "- Revenue (TTM): $383.3B\n",
        "- Dividend Yield: 0.55%\n",
        "(Note: Data is illustrative)\n",
        "\"\"\"\n",
        "    print(f\"   Result: [Generated fundamental data]\")\n",
        "    return result\n",
        "\n",
        "@tool\n",
        "def plot_daily_chart(ticker: str) -> str:\n",
        "    \"\"\"Generate a daily price chart for the confirmed ticker symbol over a recent period.\"\"\"\n",
        "    print_verbose(f\"\\n--- TOOL CALL: plot_daily_chart ---\")\n",
        "    print_verbose(f\"   Ticker: {ticker}\")\n",
        "    # In a real scenario, this would:\n",
        "    # 1. Fetch historical price data using an API.\n",
        "    # 2. Use a library like matplotlib or plotly to generate the chart.\n",
        "    # 3. Save the chart as an image file (e.g., PNG).\n",
        "    # 4. Return either the file path, image bytes (base64 encoded), or just a confirmation.\n",
        "    # For this example, we return a confirmation placeholder.\n",
        "    result = f\"Placeholder: A daily chart for {ticker} would be generated here.\"\n",
        "    print_verbose(f\"   Result: {result}\")\n",
        "    return result # Human node will need to know how to interpret this\n",
        "\n",
        "@tool\n",
        "def get_news(ticker: str) -> str:\n",
        "    \"\"\"Find recent relevant news headlines and summaries associated with the ticker.\"\"\"\n",
        "    print_verbose(f\"\\n--- TOOL CALL: get_news ---\")\n",
        "    print_verbose(f\"   Ticker: {ticker}\")\n",
        "    # Replace with actual News API call\n",
        "    # Example dummy data\n",
        "    result = f\"\"\"\n",
        "Recent News for {ticker}:\n",
        "1. '{ticker} Stock Climbs on Positive Earnings Report' - Source: Financial Times - Summary: Strong quarterly results beat analyst expectations...\n",
        "2. 'New Product Launch Boosts {ticker} Investor Confidence' - Source: Reuters - Summary: The company unveiled its latest gadget to positive reviews...\n",
        "3. 'Regulatory Concerns Weigh Down {ticker} Shares Briefly' - Source: Bloomberg - Summary: Investors reacted to potential government scrutiny in the sector...\n",
        "(Note: Headlines and summaries are illustrative)\n",
        "\"\"\"\n",
        "    print(f\"   Result: [Generated news data]\")\n",
        "    return result\n",
        "\n",
        "@tool\n",
        "def get_sentiment(ticker: str) -> str:\n",
        "    \"\"\"Analyze recent news/data to determine general sentiment towards the ticker.\"\"\"\n",
        "    print_verbose(f\"\\n--- TOOL CALL: get_sentiment ---\")\n",
        "    print_verbose(f\"   Ticker: {ticker}\")\n",
        "    # Replace with actual sentiment analysis (e.g., using NLP on news results or specific APIs)\n",
        "    # Example dummy data\n",
        "    sentiments = [\"Positive\", \"Neutral\", \"Slightly Positive\", \"Mixed\"]\n",
        "    import random\n",
        "    sentiment = random.choice(sentiments)\n",
        "    result = f\"Overall sentiment analysis based on recent data for {ticker}: {sentiment}.\"\n",
        "    print_verbose(f\"   Result: {result}\")\n",
        "    return result\n",
        "\n",
        "@tool\n",
        "def generate_full_report(ticker: str) -> str:\n",
        "    \"\"\"Combine information from multiple tools into a comprehensive report.\"\"\"\n",
        "    print_verbose(f\"\\n--- TOOL CALL: generate_full_report ---\")\n",
        "    print_verbose(f\"   Ticker: {ticker}\")\n",
        "    # This tool would ideally call the other tools internally or ask the LLM\n",
        "    # to synthesize info based on prior tool calls in the conversation history.\n",
        "    # For simplicity here, we'll just return a placeholder message.\n",
        "    # A better approach in LangGraph might be a subgraph that calls other tools.\n",
        "    result = f\"Generating a full report requires calling other tools. Based on available data (if called previously in conversation), a summary would be created here. Please ask for specific sections like 'technical analysis' or 'news' first if they haven't been retrieved yet.\"\n",
        "    print_verbose(f\"   Result: [Generated report placeholder]\")\n",
        "    return result\n",
        "\n",
        "\n",
        "\n",
        "# List of all tools\n",
        "\n",
        "tools = [\n",
        "    resolve_ticker,\n",
        "    get_technical_analysis,\n",
        "    get_fundamental_data,\n",
        "    plot_daily_chart,\n",
        "    get_news,\n",
        "    get_sentiment,\n",
        "    generate_full_report,\n",
        "]\n",
        "\n",
        "# Create a Map from Tool Name to Tool Function\n",
        "# The @tool decorator adds a '.name' attribute to the function object\n",
        "tool_map = {tool_func.name: tool_func for tool_func in tools}\n",
        "print_verbose(f\"Tool Map Created: {list(tool_map.keys())}\") # Optional: Verify map creation\n",
        "\n"
      ],
      "metadata": {
        "_uuid": "8f2839f25d086af736a60e9eeb907d3b93b6e0e5",
        "_cell_guid": "b1076dfc-b9ad-4769-8c92-a6c4dae69d19",
        "trusted": true,
        "id": "ql_7rMoyZS36"
      },
      "outputs": [],
      "execution_count": 40
    },
    {
      "cell_type": "markdown",
      "source": [
        "### AI Model Steup"
      ],
      "metadata": {
        "id": "74w38JgvxsSv"
      }
    },
    {
      "cell_type": "code",
      "source": [
        "# Model Setup\n",
        "\n",
        "# Using Gemini 1.5 Flash for potentially faster interaction\n",
        "model = ChatGoogleGenerativeAI(\n",
        "    model=\"gemini-1.5-flash-latest\",\n",
        "    google_api_key = GOOGLE_API_KEY,\n",
        "    temperature=0.7,\n",
        "    # safety_settings={ # Adjust as needed, be cautious with financial topics\n",
        "    #    HarmCategory.HARM_CATEGORY_HARASSMENT: HarmBlockThreshold.BLOCK_MEDIUM_AND_ABOVE,\n",
        "    #    HarmCategory.HARM_CATEGORY_HATE_SPEECH: HarmBlockThreshold.BLOCK_MEDIUM_AND_ABOVE,\n",
        "    #    HarmCategory.HARM_CATEGORY_SEXUALLY_EXPLICIT: HarmBlockThreshold.BLOCK_MEDIUM_AND_ABOVE,\n",
        "    #    HarmCategory.HARM_CATEGORY_DANGEROUS_CONTENT: HarmBlockThreshold.BLOCK_MEDIUM_AND_ABOVE,\n",
        "    # }\n",
        ")\n",
        "\n",
        "# Bind tools to the model\n",
        "llm_with_tools = model.bind_tools(tools)\n"
      ],
      "metadata": {
        "trusted": true,
        "id": "lM_jpEBJZS36"
      },
      "outputs": [],
      "execution_count": 41
    },
    {
      "cell_type": "markdown",
      "source": [
        "### Define AgentState"
      ],
      "metadata": {
        "id": "jYV3pWIVzMGD"
      }
    },
    {
      "cell_type": "code",
      "source": [
        "# Agent State Definition\n",
        "\n",
        "class AgentState(TypedDict):\n",
        "    messages: Annotated[List[BaseMessage], operator.add]\n",
        "    # query: str # Store last human query - helpful for human node, but messages list is primary\n",
        "    # response: str # Store last AI response - helpful for human node\n",
        "    # output_format: str # Hint: 'text', 'markdown', 'image_placeholder' - less crucial for console\n"
      ],
      "metadata": {
        "id": "xZYmRHEPzc6z"
      },
      "execution_count": 42,
      "outputs": []
    },
    {
      "cell_type": "markdown",
      "source": [
        "### Node Functions"
      ],
      "metadata": {
        "id": "YwqWq4-40Pqa"
      }
    },
    {
      "cell_type": "markdown",
      "source": [
        "#### Chatbot Node"
      ],
      "metadata": {
        "id": "ls_g5BIU3l5_"
      }
    },
    {
      "cell_type": "code",
      "source": [
        "# Define chatbot node\n",
        "\n",
        "def chatbot_node(state: AgentState):\n",
        "    \"\"\"Calls the Gemini model to generate a response or decide on tool usage.\"\"\"\n",
        "    print_verbose(\"\\n--- CHATBOT NODE ---\")\n",
        "    messages = state['messages']\n",
        "    # Ensure system prompt is included if messages are empty or first message isn't System\n",
        "    if not messages or not isinstance(messages[0], SystemMessage):\n",
        "         current_messages = [SystemMessage(content=SYSTEM_PROMPT)] + messages\n",
        "    else:\n",
        "        current_messages = messages\n",
        "\n",
        "    print_verbose(f\"   Input Messages: {[m.type for m in current_messages]}\") # Print message types\n",
        "    response = llm_with_tools.invoke(current_messages)\n",
        "    print_verbose(f\"   LLM Response Type: {response.type}\")\n",
        "    if hasattr(response, 'tool_calls') and response.tool_calls:\n",
        "        print_verbose(f\"   Tool Calls: {response.tool_calls}\")\n",
        "    else:\n",
        "        print_verbose(f\"   Response Content: {response.content[:100]}...\") # Print start of response\n",
        "\n",
        "    # Add the AI response (which might contain tool calls) to the messages list\n",
        "    return {\"messages\": [response]}"
      ],
      "metadata": {
        "id": "hzte-dVU0a-e"
      },
      "execution_count": 43,
      "outputs": []
    },
    {
      "cell_type": "markdown",
      "source": [
        "#### Tools Node"
      ],
      "metadata": {
        "id": "1WIwSBth3wwJ"
      }
    },
    {
      "cell_type": "code",
      "source": [
        "# Define tools node\n",
        "\n",
        "def tools_node(state: AgentState):\n",
        "    \"\"\"\n",
        "    Executes tools requested by the chatbot based on the tool_map.\n",
        "    \"\"\"\n",
        "    print_verbose(\"\\n--- TOOLS NODE ---\")\n",
        "    # Get the last message (which should be the AI message with tool calls)\n",
        "    last_message = state['messages'][-1]\n",
        "\n",
        "    # Check if it's an AIMessage with tool_calls\n",
        "    if not isinstance(last_message, AIMessage) or not hasattr(last_message, 'tool_calls') or not last_message.tool_calls:\n",
        "        print_verbose(\"   No tool calls found in the last message or last message is not AIMessage.\")\n",
        "        # Decide how to handle this - maybe return empty messages or raise an error\n",
        "        # For robustness, let's return an empty list, assuming the graph logic can handle it\n",
        "        return {\"messages\": []}\n",
        "\n",
        "    tool_calls = last_message.tool_calls\n",
        "    print_verbose(f\"   Found {len(tool_calls)} tool call(s).\")\n",
        "\n",
        "    tool_messages = [] # To store ToolMessage results\n",
        "\n",
        "    for tool_call in tool_calls:\n",
        "        tool_name = tool_call['name']\n",
        "        tool_args = tool_call['args']\n",
        "        tool_call_id = tool_call['id'] # Get the unique ID for this call\n",
        "\n",
        "        print_verbose(f\"   Processing call ID: {tool_call_id}\")\n",
        "        print_verbose(f\"   Tool: {tool_name}\")\n",
        "        print_verbose(f\"   Args: {tool_args}\")\n",
        "\n",
        "        # Look up the tool function in our map\n",
        "        if tool_name not in tool_map:\n",
        "            print_verbose(f\"      Error: Tool '{tool_name}' not found in tool_map.\")\n",
        "            # Report back that the tool was not found\n",
        "            tool_messages.append(ToolMessage(\n",
        "                content=f\"Error: Tool '{tool_name}' was requested but is not available.\",\n",
        "                tool_call_id=tool_call_id\n",
        "            ))\n",
        "            continue # Skip to the next tool call in the list\n",
        "\n",
        "        # Get the actual function object\n",
        "        func_to_call = tool_map[tool_name]\n",
        "\n",
        "        # Execute the tool function\n",
        "        try:\n",
        "            # Functions decorated with @tool become Runnable.\n",
        "            # Call them using .invoke() passing the arguments dictionary.\n",
        "            output = func_to_call.invoke(tool_args)\n",
        "\n",
        "            # Convert output to string for the ToolMessage content\n",
        "            output_content = str(output)\n",
        "            print_verbose(f\"      Success: Executed '{tool_name}'. Output (preview): {output_content[:100]}...\")\n",
        "\n",
        "            # Create the ToolMessage with the output\n",
        "            tool_messages.append(ToolMessage(\n",
        "                content=output_content,\n",
        "                tool_call_id=tool_call_id # Use the specific ID from the call\n",
        "            ))\n",
        "\n",
        "        except Exception as e:\n",
        "            # Handle any errors during tool execution\n",
        "            error_message = f\"Error executing tool {tool_name}: {str(e)}\"\n",
        "            print_verbose(f\"      {error_message}\")\n",
        "            tool_messages.append(ToolMessage(\n",
        "                content=error_message,\n",
        "                tool_call_id=tool_call_id # Report the error associated with this call ID\n",
        "            ))\n",
        "\n",
        "    print_verbose(f\"   Generated {len(tool_messages)} ToolMessage(s)\")\n",
        "    # Return the list of ToolMessages to be added to the state\n",
        "    return {\"messages\": tool_messages}"
      ],
      "metadata": {
        "id": "VcWsaGHF0aT4"
      },
      "execution_count": 44,
      "outputs": []
    },
    {
      "cell_type": "markdown",
      "source": [
        "#### Human Node"
      ],
      "metadata": {
        "id": "uN7K1MzS3y28"
      }
    },
    {
      "cell_type": "code",
      "source": [
        "# Define human node\n",
        "\n",
        "def human_node(state: AgentState):\n",
        "    \"\"\"Handles human interaction: displays AI response, gets input.\"\"\"\n",
        "    print_verbose(\"\\n--- HUMAN NODE ---\")\n",
        "    last_ai_message = state['messages'][-1]\n",
        "\n",
        "    # Display the AI's response\n",
        "    if isinstance(last_ai_message, AIMessage):\n",
        "        print(\"\\nAssistant:\")\n",
        "        # Basic handling for different potential outputs\n",
        "        if \"Placeholder: A daily chart\" in last_ai_message.content:\n",
        "             print(f\"   [Image Placeholder: {last_ai_message.content}]\")\n",
        "        else:\n",
        "             # Just print text/markdown content for console\n",
        "             print(f\"   {last_ai_message.content}\") # Assumes console can handle basic markdown ok\n",
        "\n",
        "    # Get human input\n",
        "    while True:\n",
        "        user_input = input(\"\\nYour Response (or type 'quit' to exit): \")\n",
        "        if user_input.strip():\n",
        "            break\n",
        "        print(\"Please enter a response.\")\n",
        "\n",
        "    if user_input.lower() in {\"q\", \"quit\", \"exit\", \"goodbye\"}:\n",
        "        print(\"\\nExiting application.\")\n",
        "        # Signal termination by returning a message that the conditional edge can check\n",
        "        return {\"messages\": [HumanMessage(content=\"quit\")]}\n",
        "    else:\n",
        "        return {\"messages\": [HumanMessage(content=user_input)]}\n",
        "\n"
      ],
      "metadata": {
        "id": "5fedZOy80Ufy"
      },
      "execution_count": 45,
      "outputs": []
    },
    {
      "cell_type": "markdown",
      "source": [
        "### Conditional Routing Logic"
      ],
      "metadata": {
        "id": "YqNJXvLW1AOQ"
      }
    },
    {
      "cell_type": "code",
      "source": [
        "# Define conditional routing function\n",
        "\n",
        "def should_continue(state: AgentState) -> str:\n",
        "    \"\"\"Determines the next node to route to.\"\"\"\n",
        "    print_verbose(\"\\n--- ROUTING ---\")\n",
        "    last_message = state['messages'][-1]\n",
        "    print_verbose(f\"   Last Message Type: {last_message.type}\")\n",
        "\n",
        "    if isinstance(last_message, AIMessage):\n",
        "        if hasattr(last_message, 'tool_calls') and last_message.tool_calls:\n",
        "            print_verbose(\"   Decision: Route to TOOLS\")\n",
        "            return \"tools_node\"\n",
        "        else:\n",
        "            print_verbose(\"   Decision: Route to HUMAN\")\n",
        "            return \"human_node\"\n",
        "    elif isinstance(last_message, ToolMessage):\n",
        "        print_verbose(\"   Decision: Route to CHATBOT\")\n",
        "        return \"chatbot_node\"\n",
        "    elif isinstance(last_message, HumanMessage):\n",
        "        if last_message.content.lower() == 'quit':\n",
        "            print_verbose(\"   Decision: END\")\n",
        "            return END\n",
        "        else:\n",
        "            print_verbose(\"   Decision: Route to CHATBOT\")\n",
        "            return \"chatbot_node\"\n",
        "    else:\n",
        "         # Default or error case? Maybe loop back to chatbot or end?\n",
        "         print_verbose(\"   Decision: Fallback - Route to CHATBOT\")\n",
        "         return \"chatbot_node\" # Or END?"
      ],
      "metadata": {
        "id": "V5jXsfFl1Arq"
      },
      "execution_count": 46,
      "outputs": []
    },
    {
      "cell_type": "markdown",
      "source": [
        "### Graph Builder"
      ],
      "metadata": {
        "id": "4OtoKftD1Qan"
      }
    },
    {
      "cell_type": "code",
      "source": [
        "# Build the Graph\n",
        "\n",
        "graph_builder = StateGraph(AgentState)\n",
        "\n",
        "# Add nodes\n",
        "graph_builder.add_node(\"chatbot_node\", chatbot_node)\n",
        "graph_builder.add_node(\"tools_node\", tools_node)\n",
        "graph_builder.add_node(\"human_node\", human_node)\n",
        "\n",
        "# Set entry point\n",
        "graph_builder.set_entry_point(\"chatbot_node\") # Start with the chatbot's initial message\n",
        "\n",
        "# Add edges\n",
        "graph_builder.add_conditional_edges(\n",
        "    \"chatbot_node\", # Source node\n",
        "    should_continue, # Function to determine route\n",
        "    {\n",
        "        \"tools_node\": \"tools_node\",\n",
        "        \"human_node\": \"human_node\",\n",
        "        END: END # Should not happen directly from chatbot, but define just in case\n",
        "    }\n",
        ")\n",
        "\n",
        "graph_builder.add_conditional_edges(\n",
        "    \"human_node\", # Source node\n",
        "    should_continue, # Function to determine route based on human input\n",
        "     {\n",
        "        \"chatbot_node\": \"chatbot_node\",\n",
        "        END: END # Handle 'quit' command\n",
        "    }\n",
        ")\n",
        "\n",
        "# After tools are executed, always go back to the chatbot\n",
        "graph_builder.add_edge(\"tools_node\", \"chatbot_node\")\n",
        "\n",
        "# Compile the graph\n",
        "app = graph_builder.compile()\n",
        "\n",
        "Image(app.get_graph().draw_mermaid_png())"
      ],
      "metadata": {
        "colab": {
          "base_uri": "https://localhost:8080/",
          "height": 350
        },
        "id": "aGJFNWMg1ZQ1",
        "outputId": "f8fb8bf3-2015-41da-bc0a-fd0241c99ddc"
      },
      "execution_count": 47,
      "outputs": [
        {
          "output_type": "execute_result",
          "data": {
            "image/png": "[encoded data removed]",
            "text/plain": [
              "<IPython.core.display.Image object>"
            ]
          },
          "metadata": {},
          "execution_count": 47
        }
      ]
    },
    {
      "cell_type": "markdown",
      "source": [
        "### Execute the Agent"
      ],
      "metadata": {
        "id": "wdN_bzRQ1p9Q"
      }
    },
    {
      "cell_type": "code",
      "source": [
        "# Run the Graph\n",
        "\n",
        "print(\"Starting Stock Research Assistant...\")\n",
        "print(\"------------------------------------\")\n",
        "\n",
        "# Initial state - start with empty messages, the chatbot node will add the system prompt\n",
        "initial_state = {\n",
        "    \"messages\": [\n",
        "        SystemMessage(content=SYSTEM_PROMPT),\n",
        "        HumanMessage(content=\"hello\")  # try '<START>'\n",
        "    ]\n",
        "}\n",
        "\n",
        "# Stream the execution\n",
        "try:\n",
        "    # Use stream for potentially long conversations or tool calls\n",
        "    for event in app.stream(initial_state, stream_mode=\"values\"):\n",
        "        # event is the full state dictionary at each step\n",
        "        # The human_node handles the printing and input loop within its execution\n",
        "        pass # The nodes themselves print debug info\n",
        "\n",
        "except KeyboardInterrupt:\n",
        "    print(\"\\nInterrupted by user. Exiting.\")\n",
        "except Exception as e:\n",
        "    print(f\"\\nAn error occurred: {e}\")\n",
        "\n",
        "print(\"------------------------------------\")\n",
        "print(\"Stock Research Assistant finished.\")"
      ],
      "metadata": {
        "colab": {
          "base_uri": "https://localhost:8080/"
        },
        "id": "ZbUCytMI10dD",
        "outputId": "18ac2128-0caa-4f40-f39c-543e0423c59f"
      },
      "execution_count": 48,
      "outputs": [
        {
          "output_type": "stream",
          "name": "stdout",
          "text": [
            "Starting Stock Research Assistant...\n",
            "------------------------------------\n",
            "\n",
            "Assistant:\n",
            "   Hello!  I'm ready to assist you with your stock research.  To begin, please tell me which stock, company, or ETF you'd like to research.\n",
            "\n",
            "Your Response (or type 'quit' to exit): microsoft\n",
            "\n",
            "Assistant:\n",
            "   I found the ticker symbol MSFT for Microsoft. Is this the symbol you'd like to research?\n",
            "\n",
            "Your Response (or type 'quit' to exit): yes\n",
            "\n",
            "Assistant:\n",
            "   Great! Now, what aspect(s) of MSFT would you like to explore?  I can help you with:\n",
            "\n",
            "*   **Technical Analysis:**  Key technical indicators like moving averages and RSI.\n",
            "*   **Fundamental Analysis:**  Financial data such as P/E ratio, EPS, and revenue.\n",
            "*   **Plot Daily Chart:** A visual representation of the daily price movements.\n",
            "*   **Get News:** Recent news headlines and summaries related to Microsoft.\n",
            "*   **Get Sentiment:**  Analysis of the overall sentiment (positive, negative, or neutral) surrounding MSFT.\n",
            "*   **Produce a Full Report:** A combined summary of data from multiple sources.\n",
            "\n",
            "Please let me know your choice(s).\n",
            "\n",
            "Your Response (or type 'quit' to exit): find spy\n",
            "\n",
            "Assistant:\n",
            "   Okay, let's switch to a different stock.  To begin, please tell me the name of the stock, company, or ETF you would like to research now.\n",
            "\n",
            "Your Response (or type 'quit' to exit): spy\n",
            "\n",
            "Assistant:\n",
            "   I found the ticker symbol SPY. Is this the symbol you'd like to research?\n",
            "\n",
            "Your Response (or type 'quit' to exit): yes\n",
            "\n",
            "Assistant:\n",
            "   Great! Now, what aspect(s) of SPY would you like to explore? I can help you with:\n",
            "\n",
            "*   **Technical Analysis:** Key technical indicators like moving averages and RSI.\n",
            "*   **Fundamental Analysis:** Financial data such as P/E ratio, EPS, and revenue.\n",
            "*   **Plot Daily Chart:** A visual representation of the daily price movements.\n",
            "*   **Get News:** Recent news headlines and summaries related to SPY.\n",
            "*   **Get Sentiment:** Analysis of the overall sentiment (positive, negative, or neutral) surrounding SPY.\n",
            "*   **Produce a Full Report:** A combined summary of data from multiple sources.\n",
            "\n",
            "Please let me know your choice(s).\n",
            "\n",
            "Your Response (or type 'quit' to exit): quit\n",
            "\n",
            "Exiting application.\n",
            "------------------------------------\n",
            "Stock Research Assistant finished.\n"
          ]
        }
      ]
    }
  ]
}